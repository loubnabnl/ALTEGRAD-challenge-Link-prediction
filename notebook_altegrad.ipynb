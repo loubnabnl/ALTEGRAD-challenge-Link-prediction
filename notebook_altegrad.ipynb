{
  "cells": [
    {
      "cell_type": "markdown",
      "metadata": {
        "id": "KCLu19yDTXKE"
      },
      "source": [
        "Link for the data and embeddings: https://drive.google.com/drive/folders/1PKT2xfyovvTEYlCdyBIr-a1HXWNzjfKV?usp=sharing"
      ]
    },
    {
      "cell_type": "markdown",
      "metadata": {},
      "source": [
        "Link to have a full vision of our project: https://drive.google.com/drive/folders/1124Fy4Vh3syHdZImZlseOGwuMK4XEUVK?usp=sharing"
      ]
    },
    {
      "cell_type": "markdown",
      "metadata": {
        "id": "_MjNJrEVTcJm"
      },
      "source": [
        "We have provided the code for this challenge, but we additionaly include this notebook which uses pre-computed embeddings available on the drive folder mentioned below, to reproduce the results in an easier way."
      ]
    },
    {
      "cell_type": "code",
      "execution_count": null,
      "metadata": {
        "colab": {
          "base_uri": "https://localhost:8080/"
        },
        "id": "cQ83v5534NKy",
        "outputId": "82b5dc74-8cba-41cf-bd00-7365312ca0b2"
      },
      "outputs": [
        {
          "name": "stdout",
          "output_type": "stream",
          "text": [
            "Mounted at /content/drive\n"
          ]
        }
      ],
      "source": [
        "from google.colab import drive\n",
        "drive.mount('/content/drive')"
      ]
    },
    {
      "cell_type": "code",
      "execution_count": null,
      "metadata": {
        "colab": {
          "base_uri": "https://localhost:8080/"
        },
        "id": "HxQqi6xA5di4",
        "outputId": "2ca5ad96-9ab5-4ff5-d88c-008901af92aa"
      },
      "outputs": [
        {
          "name": "stdout",
          "output_type": "stream",
          "text": [
            "/content/drive/.shortcut-targets-by-id/1UTpO-qa1QNYNkfp66OwNAuhMDSV6K3ZX/data_challenge_2021/ALTEGRAD-challenge---Link-prediction\n"
          ]
        }
      ],
      "source": [
        "#link to the data in the drive\n",
        "%cd \"/content/drive/MyDrive/data_challenge_2021/ALTEGRAD-challenge---Link-prediction/\""
      ]
    },
    {
      "cell_type": "code",
      "execution_count": 48,
      "metadata": {
        "colab": {
          "base_uri": "https://localhost:8080/"
        },
        "id": "D1S5YB3T5lmO",
        "outputId": "3986219b-c3e6-4e0e-e39a-abb8110c40f3"
      },
      "outputs": [
        {
          "name": "stdout",
          "output_type": "stream",
          "text": [
            "\u001b[K     |████████████████████████████████| 3.5 MB 14.6 MB/s \n",
            "\u001b[K     |████████████████████████████████| 895 kB 10.5 MB/s \n",
            "\u001b[K     |████████████████████████████████| 6.8 MB 32.3 MB/s \n",
            "\u001b[K     |████████████████████████████████| 67 kB 5.0 MB/s \n",
            "\u001b[K     |████████████████████████████████| 596 kB 84.5 MB/s \n",
            "\u001b[?25h  Building wheel for nodevectors (setup.py) ... \u001b[?25l\u001b[?25hdone\n",
            "  Building wheel for csrgraph (setup.py) ... \u001b[?25l\u001b[?25hdone\n"
          ]
        }
      ],
      "source": [
        "!pip install -q transformers nodevectors"
      ]
    },
    {
      "cell_type": "markdown",
      "metadata": {
        "id": "i7RX8rEkTGmt"
      },
      "source": [
        "## Import packages and graph"
      ]
    },
    {
      "cell_type": "code",
      "execution_count": 49,
      "metadata": {
        "id": "hzlJM6xYTJ7S"
      },
      "outputs": [],
      "source": [
        "import pickle\n",
        "import gzip\n",
        "import os\n",
        "from tqdm import tqdm\n",
        "import networkx as nx\n",
        "import torch\n",
        "from transformers import AutoTokenizer, AutoModel\n",
        "from nodevectors import Node2Vec\n",
        "import numpy as np"
      ]
    },
    {
      "cell_type": "code",
      "execution_count": null,
      "metadata": {
        "id": "Soi0WESYTM0_"
      },
      "outputs": [],
      "source": [
        "# Create a graph\n",
        "G = nx.read_edgelist('edgelist.txt', delimiter=',', create_using=nx.Graph(), nodetype=int)\n",
        "nodes = list(G.nodes())\n",
        "n = G.number_of_nodes()\n",
        "m = G.number_of_edges()"
      ]
    },
    {
      "cell_type": "code",
      "execution_count": null,
      "metadata": {
        "id": "duhbkQKbx2Nn"
      },
      "outputs": [],
      "source": [
        "#load authors and abstracts\n",
        "authors = dict()\n",
        "with open('../authors.txt', 'r',  encoding=\"utf8\") as f:\n",
        "    for line in f:\n",
        "        node, author = line.split('|--|')\n",
        "        authors[int(node)] = author\n",
        "\n",
        "abstracts = dict()\n",
        "with open('../abstracts.txt', 'r',  encoding=\"utf8\") as f:\n",
        "    for line in f:\n",
        "        node, abstract = line.split('|--|')\n",
        "        abstracts[int(node)] = abstract"
      ]
    },
    {
      "cell_type": "markdown",
      "metadata": {
        "id": "lgGkFPSnBpCV"
      },
      "source": [
        "## Useful functions"
      ]
    },
    {
      "cell_type": "code",
      "execution_count": null,
      "metadata": {
        "id": "2PnQikPyGOjX"
      },
      "outputs": [],
      "source": [
        "from sklearn.metrics.pairwise import cosine_similarity\n",
        "from sklearn.metrics import f1_score, roc_auc_score\n",
        "from sklearn.metrics import log_loss\n",
        "import scipy\n",
        "from scipy import spatial \n",
        "\n",
        "def get_training_graph(graph, edges_to_remove):\n",
        "    res_graph = graph.copy()\n",
        "    for edge in edges_to_remove:\n",
        "        res_graph.remove_edge(edge[0], edge[1])\n",
        "    return res_graph\n",
        "\n",
        "def load_features(filename):\n",
        "    with gzip.open(filename, \"rb\") as f:\n",
        "        loaded_object = pickle.load(f)\n",
        "        return loaded_object\n",
        "\n",
        "def load_adjacency_author(authors, path_adj = 'adjacencyfinal.npz'):\n",
        "  A = scipy.sparse.load_npz(path_adj)\n",
        "  list_all_authors = []\n",
        "  aut = list(authors.values())\n",
        "  for x in aut:\n",
        "    x_list = x.split(\",\")\n",
        "    x_list[-1] = x_list[-1][:-1]\n",
        "    for auth in x_list:\n",
        "      list_all_authors.append(auth)\n",
        "\n",
        "  unique_authors = np.unique(list_all_authors)\n",
        "\n",
        "  aut_to_index = {}\n",
        "  i=0\n",
        "  for auth in unique_authors:\n",
        "    aut_to_index[auth] = i\n",
        "    i+=1\n",
        "  return A, aut_to_index\n",
        "  \n",
        "def cosine_sim(arr1, arr2, eps=0.001):\n",
        "    norm1 = np.linalg.norm(arr1)\n",
        "    norm2 = np.linalg.norm(arr2)\n",
        "    if norm1 < eps or norm2 < eps:\n",
        "      return 0\n",
        "    return np.dot(arr1, arr2)/(np.linalg.norm(arr1)*np.linalg.norm(arr2))\n",
        "\n",
        "def return_metrics(true, preds, thres=0.5):\n",
        "    preds_label = np.where(preds > thres, 1, 0)\n",
        "    f1 = f1_score(true, preds_label)\n",
        "    auc = roc_auc_score(true, preds)\n",
        "    logloss = log_loss(true, preds.astype(np.float64))\n",
        "    return f1, auc, logloss\n",
        "\n",
        "def extract_features2(graph, authors, n2v, t2v,a2v, samples, pagerank, gd, partition):\n",
        "\n",
        "    features = list()\n",
        "    A, aut_to_index = load_adjacency_author(authors, path_adj = 'adjacencyfinal.npz')\n",
        "\n",
        "    for edge in tqdm(samples):\n",
        "         ## Graph features\n",
        "\n",
        "        sum_dg = graph.degree(edge[0]) + graph.degree(edge[1])\n",
        "        diff_dg = abs(graph.degree(edge[0]) - graph.degree(edge[1]))\n",
        "\n",
        "        AAI = list(nx.adamic_adar_index(graph, [(edge[0], edge[1])]))[0][2]\n",
        "        JC = list(nx.jaccard_coefficient(graph, [(edge[0], edge[1])]))[0][2]\n",
        "        # Preferential Attachment\n",
        "        PA = list(nx.preferential_attachment(graph, [(edge[0], edge[1])]))[0][2]\n",
        "        # Common Neighbors\n",
        "        CN = len(list(nx.common_neighbors(graph, u=edge[0], v=edge[1])))\n",
        "        # Page Rank\n",
        "        PR = np.log(pagerank[edge[0]] * pagerank[edge[1]])\n",
        "        # Katz\n",
        "        #KZ = np.log(katz[node_left] * katz[node_right])\n",
        "        \n",
        "        #other graph features\n",
        "        if partition[edge[0]] == partition[edge[1]]:\n",
        "            com_partition = 1\n",
        "        else:\n",
        "            com_partition = 0\n",
        "        cluster_coeff = gd[\"clustering_coeff\"][edge[0]] * gd[\"clustering_coeff\"][edge[1]]\n",
        "        eigenvector = gd[\"eigenvector\"][edge[0]] * gd[\"eigenvector\"][edge[1]]\n",
        "\n",
        "        cosine_node = cosine_sim(n2v[edge[0]], n2v[edge[1]])\n",
        "        cosine_author = cosine_sim(a2v[edge[0]], a2v[edge[1]])\n",
        "        #cosine_abstract = cosine_sim(t2v[edge[0]], t2v[edge[1]])\n",
        "        #distance between sentence embeddings using word2vec\n",
        "        dist_abstract = np.linalg.norm(t2v[edge[0]] - t2v[edge[1]])\n",
        "        \n",
        "        features_final = np.concatenate([n2v[edge[0]], n2v[edge[1]], a2v[edge[0]], a2v[edge[1]]])\n",
        "        \n",
        "        # Common Authors\n",
        "        authors_left = authors[edge[0]]\n",
        "        authors_right = authors[edge[1]]\n",
        "        L1 = list(set(authors_left.strip().split(',')))\n",
        "        L2 = list(set(authors_right.strip().split(',')))\n",
        "        colab = 0\n",
        "        for author in L1:\n",
        "          for author2 in L2:\n",
        "            colab += A[aut_to_index[author], aut_to_index[author2]] \n",
        "\n",
        "        colab_mean = colab/(len(authors_left)*len(authors_right))\n",
        "\n",
        "        if authors_left is None or authors_right is None:\n",
        "            common_authors = float('nan')\n",
        "        else:\n",
        "            common_authors = len(list(set(authors_left.strip().split(',')).intersection(authors_right.strip().split(','))))\n",
        "\n",
        "        total_features = list(features_final) + [JC, AAI, PR, PA, CN, com_partition, cluster_coeff, eigenvector, cosine_node, dist_abstract, cosine_author, \n",
        "                                                 sum_dg, diff_dg, common_authors, colab, colab_mean]\n",
        "\n",
        "        features.append(total_features)\n",
        "\n",
        "    return np.stack(features)"
      ]
    },
    {
      "cell_type": "markdown",
      "metadata": {
        "id": "o4LOmIfjWx5F"
      },
      "source": [
        "## Word2vec for abstract"
      ]
    },
    {
      "cell_type": "code",
      "execution_count": null,
      "metadata": {
        "cellView": "form",
        "id": "_P6dlO8CwsFJ"
      },
      "outputs": [],
      "source": [
        "#@title\n",
        "def abstract_embedding(abstract, model):\n",
        "    num_features = model.trainables.layer1_size\n",
        "    result = np.zeros(num_features)\n",
        "    words = abstract.split()\n",
        "    not_in_vocab = 0\n",
        "    for word in words:\n",
        "        if word in model.wv.vocab:\n",
        "            result += model.wv[word]\n",
        "        else:\n",
        "            not_in_vocab += 1\n",
        "    if len(words) - not_in_vocab != 0:\n",
        "        result /= (len(words) - not_in_vocab)\n",
        "    else:\n",
        "        result = 0\n",
        "    return result"
      ]
    },
    {
      "cell_type": "code",
      "execution_count": null,
      "metadata": {
        "cellView": "form",
        "id": "ltnVh2DQwAHt"
      },
      "outputs": [],
      "source": [
        "#@title\n",
        "from gensim.models import word2vec\n",
        "import nltk\n",
        "\n",
        "# Tokenization\n",
        "print(\"Loading stemmer and stop words...\")\n",
        "nltk.download('punkt')\n",
        "stemmer = nltk.stem.PorterStemmer()\n",
        "nltk.download('stopwords')\n",
        "stpwds = set(nltk.corpus.stopwords.words(\"english\"))"
      ]
    },
    {
      "cell_type": "code",
      "execution_count": null,
      "metadata": {
        "cellView": "form",
        "id": "jGR0mFsQuaPk"
      },
      "outputs": [],
      "source": [
        "#@title\n",
        "#Word training corpus\n",
        "training_words = []\n",
        "for node in nodes:\n",
        "  training_words += [word for word in abstracts[node].split() if word not in stpwds]\n",
        "training_words = list(set(training_words))"
      ]
    },
    {
      "cell_type": "code",
      "execution_count": null,
      "metadata": {
        "cellView": "form",
        "id": "TXms2wVpvgc6"
      },
      "outputs": [],
      "source": [
        "#@title\n",
        "model = word2vec.Word2Vec(training_words, workers=4, size=64, min_count=5, window=20)"
      ]
    },
    {
      "cell_type": "code",
      "execution_count": null,
      "metadata": {
        "cellView": "form",
        "colab": {
          "base_uri": "https://localhost:8080/"
        },
        "id": "ZpUb-C3syVFC",
        "outputId": "f2bd21dd-792c-4ace-ba7d-a8ecd23fc714"
      },
      "outputs": [
        {
          "name": "stdout",
          "output_type": "stream",
          "text": [
            "/content/drive/.shortcut-targets-by-id/1UTpO-qa1QNYNkfp66OwNAuhMDSV6K3ZX/data_challenge_2021/ALTEGRAD-challenge---Link-prediction\n"
          ]
        }
      ],
      "source": [
        "#@title\n",
        "!pwd"
      ]
    },
    {
      "cell_type": "code",
      "execution_count": null,
      "metadata": {
        "cellView": "form",
        "id": "XTsK_ZAeyUQY"
      },
      "outputs": [],
      "source": [
        "#@title\n",
        "model.save(\"wv_model.model\")"
      ]
    },
    {
      "cell_type": "code",
      "execution_count": null,
      "metadata": {
        "cellView": "form",
        "colab": {
          "base_uri": "https://localhost:8080/"
        },
        "id": "ZTJVvMFDu6Jb",
        "outputId": "78dca087-be66-4d97-b199-6352201162d3"
      },
      "outputs": [
        {
          "name": "stdout",
          "output_type": "stream",
          "text": [
            "Creating word embeddings\n",
            "Making feature vectors for the abstract...\n"
          ]
        },
        {
          "name": "stderr",
          "output_type": "stream",
          "text": [
            "100%|██████████| 138499/138499 [00:07<00:00, 19134.10it/s]\n"
          ]
        }
      ],
      "source": [
        "#@title\n",
        "#wv_model = word2vec.Word2Vec.load(path_wv_model)\n",
        "print(\"Creating word embeddings\")\n",
        "abstract_emb = dict()\n",
        "for node in tqdm(nodes):\n",
        "  abstract_emb[node] = abstract_embedding(abstracts[node], model)"
      ]
    },
    {
      "cell_type": "code",
      "execution_count": null,
      "metadata": {
        "cellView": "form",
        "colab": {
          "base_uri": "https://localhost:8080/"
        },
        "id": "XUtN6HY-fgWy",
        "outputId": "27530a9c-6a70-48c9-9265-1db92cf118e2"
      },
      "outputs": [
        {
          "name": "stdout",
          "output_type": "stream",
          "text": [
            "saving embeddings\n"
          ]
        }
      ],
      "source": [
        "#@title\n",
        "print('saving embeddings')\n",
        "file = gzip.GzipFile('../abstract_word2vec_64.emb', 'wb')\n",
        "file.write(pickle.dumps(abstract_emb))\n",
        "file.close()"
      ]
    },
    {
      "cell_type": "markdown",
      "metadata": {
        "id": "MH0TrYnIQr7h"
      },
      "source": [
        "Using pre-computed embeddings"
      ]
    },
    {
      "cell_type": "code",
      "execution_count": null,
      "metadata": {
        "id": "i0RCglHi6RT5"
      },
      "outputs": [],
      "source": [
        "ABSTRACT_EMBEDDING_FILENAME = '../text_emb.emb'\n",
        "WORD2VEC = '../abstract_word2vec_64.emb'\n",
        "EMBEDDING_FILENAME = '../NETMF42_emb.emb'\n",
        "AUTHORS_EMBEDDING = '../authors_emb.emb'\n",
        "# Features related to the texts\n",
        "text2vec = load_features(WORD2VEC)\n",
        "aut2vec = load_features(AUTHORS_EMBEDDING)\n",
        "nodes2vec = load_features(EMBEDDING_FILENAME)"
      ]
    },
    {
      "cell_type": "markdown",
      "metadata": {
        "id": "PoVkskq0V55y"
      },
      "source": [
        "Split data into training and validationsets"
      ]
    },
    {
      "cell_type": "code",
      "execution_count": null,
      "metadata": {
        "id": "uGEx6jMfQwJr"
      },
      "outputs": [],
      "source": [
        "from random import randint\n",
        "import community.community_louvain as com\n",
        "\n",
        "#create m (number edges) negative samples (i.e pair of nodes with no edge)\n",
        "non_edges = []\n",
        "#generate only negative samples 70%\n",
        "for i in tqdm(range(int(m))):\n",
        "  n1 = nodes[randint(0, n-1)]\n",
        "  n2 = nodes[randint(0, n-1)]\n",
        "  while (n1, n2) in G.edges() or n1==n2:\n",
        "      n1 = nodes[randint(0, n-1)]\n",
        "      n2 = nodes[randint(0, n-1)]\n",
        "  non_edges.append((n1, n2))"
      ]
    },
    {
      "cell_type": "code",
      "execution_count": null,
      "metadata": {
        "colab": {
          "base_uri": "https://localhost:8080/"
        },
        "id": "R712qfpeWdlK",
        "outputId": "bf0fd125-65eb-4965-a4b4-5e78dcf3b20f"
      },
      "outputs": [
        {
          "data": {
            "text/plain": [
              "<torch._C.Generator at 0x7f058afe8410>"
            ]
          },
          "execution_count": 20,
          "metadata": {},
          "output_type": "execute_result"
        }
      ],
      "source": [
        "all_edges = list(G.edges())\n",
        "seed = 0\n",
        "np.random.seed(seed)\n",
        "torch.manual_seed(seed)"
      ]
    },
    {
      "cell_type": "code",
      "execution_count": null,
      "metadata": {
        "colab": {
          "base_uri": "https://localhost:8080/"
        },
        "id": "VVPs6j6_YC8F",
        "outputId": "b2168b41-ec8e-45d1-d5cf-a4aab986ee31"
      },
      "outputs": [
        {
          "name": "stdout",
          "output_type": "stream",
          "text": [
            "Number of positive examples : 1091955\n",
            "Number of negative examples : 1091955\n"
          ]
        }
      ],
      "source": [
        "np.random.shuffle(all_edges)\n",
        "np.random.shuffle(non_edges)\n",
        "\n",
        "print(f\"Number of positive examples : {len(all_edges)}\")\n",
        "print(f\"Number of negative examples : {len(non_edges)}\")"
      ]
    },
    {
      "cell_type": "code",
      "execution_count": null,
      "metadata": {
        "colab": {
          "base_uri": "https://localhost:8080/"
        },
        "id": "B26KidAwYTJG",
        "outputId": "18f29e41-dc79-48e8-8a4c-e4cef015cb81"
      },
      "outputs": [
        {
          "name": "stdout",
          "output_type": "stream",
          "text": [
            "The number of pos examples : Dev 109195 / Training 982760.\n",
            "The number of neg examples : Dev 109195 / Training 982760.\n"
          ]
        }
      ],
      "source": [
        "number_pos_dev = int(0.1 * len(all_edges))\n",
        "number_neg_dev = int(0.1* len(non_edges))\n",
        "\n",
        "print(f\"The number of pos examples : Dev {number_pos_dev} / Training {len(all_edges) - number_pos_dev}.\")\n",
        "print(f\"The number of neg examples : Dev {number_neg_dev} / Training {len(non_edges) - number_pos_dev}.\")"
      ]
    },
    {
      "cell_type": "code",
      "execution_count": null,
      "metadata": {
        "id": "QtiS6kk4ao5-"
      },
      "outputs": [],
      "source": [
        "pos_samples_dev = all_edges[:number_pos_dev]\n",
        "neg_samples_dev = non_edges[:number_neg_dev]\n",
        "pos_samples_train = list(set(all_edges) - set(pos_samples_dev))\n",
        "neg_samples_train = list(set(non_edges) - set(neg_samples_dev))"
      ]
    },
    {
      "cell_type": "code",
      "execution_count": null,
      "metadata": {
        "id": "FPhhxXdcQhf4"
      },
      "outputs": [],
      "source": [
        "graph = get_training_graph(G, pos_samples_dev)\n",
        "pr = nx.pagerank(graph,alpha=0.85, max_iter=200)"
      ]
    },
    {
      "cell_type": "code",
      "execution_count": null,
      "metadata": {
        "id": "zPdm5dyOb3-Q"
      },
      "outputs": [],
      "source": [
        "graph_dicts = dict()\n",
        "graph_dicts[\"clustering_coeff\"] = nx.algorithms.cluster.clustering(graph)\n",
        "graph_dicts[\"eigenvector\"] = nx.algorithms.centrality.eigenvector_centrality(graph)\n",
        "partition = com.best_partition(graph)"
      ]
    },
    {
      "cell_type": "code",
      "execution_count": null,
      "metadata": {
        "id": "4hXYCFkGcHtJ"
      },
      "outputs": [],
      "source": [
        "#split data\n",
        "train_samples = pos_samples_train + neg_samples_train\n",
        "train_labels = [1 for x in pos_samples_train] + [0 for x in neg_samples_train]\n",
        "dev_samples = pos_samples_dev + neg_samples_dev\n",
        "dev_labels = [1 for x in pos_samples_dev] + [0 for x in neg_samples_dev]"
      ]
    },
    {
      "cell_type": "code",
      "execution_count": null,
      "metadata": {
        "colab": {
          "base_uri": "https://localhost:8080/"
        },
        "id": "-CH6J-gTlFXV",
        "outputId": "96b1605d-8b90-4f45-a504-5e325998e171"
      },
      "outputs": [
        {
          "name": "stderr",
          "output_type": "stream",
          "text": [
            "100%|██████████| 1965492/1965492 [27:04<00:00, 1210.12it/s]\n"
          ]
        }
      ],
      "source": [
        "X_train = extract_features2(graph, authors, nodes2vec, text2vec,aut2vec, train_samples, pr, graph_dicts, partition)"
      ]
    },
    {
      "cell_type": "code",
      "execution_count": null,
      "metadata": {
        "colab": {
          "base_uri": "https://localhost:8080/"
        },
        "id": "ojBRdP8QlKJR",
        "outputId": "7f4189ed-dd83-4068-84ea-4ea04f06868a"
      },
      "outputs": [
        {
          "name": "stderr",
          "output_type": "stream",
          "text": [
            "100%|██████████| 218390/218390 [03:00<00:00, 1209.39it/s]\n"
          ]
        }
      ],
      "source": [
        "X_dev = extract_features2(graph, authors, nodes2vec, text2vec,aut2vec, dev_samples, pr, graph_dicts, partition)"
      ]
    },
    {
      "cell_type": "code",
      "execution_count": null,
      "metadata": {
        "colab": {
          "base_uri": "https://localhost:8080/"
        },
        "id": "sl6UzUwCFJx0",
        "outputId": "5ec7925f-4ecc-43f5-e1e5-e799279c2327"
      },
      "outputs": [
        {
          "name": "stderr",
          "output_type": "stream",
          "text": [
            "100%|██████████| 106692/106692 [01:31<00:00, 1169.89it/s]\n"
          ]
        }
      ],
      "source": [
        "# Read test data. Each sample is a pair of nodes\n",
        "node_pairs = list()\n",
        "with open('test.txt', 'r') as f:\n",
        "    for line in f:\n",
        "        t = line.split(',')\n",
        "        node_pairs.append((int(t[0]), int(t[1])))\n",
        "        \n",
        "X_test =  extract_features2(graph, authors, nodes2vec, text2vec, aut2vec, node_pairs, pr, graph_dicts, partition)"
      ]
    },
    {
      "cell_type": "code",
      "execution_count": null,
      "metadata": {
        "id": "uu6-Ty46xbm5"
      },
      "outputs": [],
      "source": [
        "np.save('X_train_wv.npy', X_train)\n",
        "np.save('X_dev_wv.npy', X_dev)\n",
        "np.save('X_test_wv.npy', X_test)\n",
        "np.save('train_labels_wv.npy', np.array(train_labels))\n",
        "np.save('dev_labels_wv.npy', np.array(dev_labels))"
      ]
    },
    {
      "cell_type": "markdown",
      "metadata": {
        "id": "0WucqB2MyNiD"
      },
      "source": [
        "## To read pre-computed training and validation matrices"
      ]
    },
    {
      "cell_type": "code",
      "execution_count": null,
      "metadata": {
        "id": "XbpgZrVryMHn"
      },
      "outputs": [],
      "source": [
        "X_train = np.load('X_train_all.npy')\n",
        "X_dev = np.load('X_dev_all.npy')\n",
        "X_test = np.load('X_test_all.npy')\n",
        "train_labels = np.load('train_labels.npy')\n",
        "dev_labels = np.load('dev_labels.npy')"
      ]
    },
    {
      "cell_type": "markdown",
      "metadata": {
        "id": "ka2sxuFMuHsW"
      },
      "source": [
        "## MLP"
      ]
    },
    {
      "cell_type": "code",
      "execution_count": null,
      "metadata": {
        "id": "XagqO-jquJDR"
      },
      "outputs": [],
      "source": [
        "from keras.models import Sequential\n",
        "from keras.layers import Dense, Dropout\n",
        "from keras.callbacks import EarlyStopping\n",
        "import tensorflow as tf\n",
        "\n",
        "def neural_net(X_train, y_train, X_validation, y_validation):\n",
        "    print(\"NEURAL NET\")\n",
        "    early_stop = EarlyStopping(monitor='val_loss', min_delta=0, patience=10, verbose=2, mode='auto')\n",
        "\n",
        "    model = Sequential()\n",
        "    model.add(Dense(160, input_dim=X_train.shape[1], activation='relu'))\n",
        "    model.add(Dropout(0.5))\n",
        "    model.add(Dense(160, activation='relu'))\n",
        "    model.add(Dropout(0.5))\n",
        "    model.add(Dense(64, activation='relu'))\n",
        "    model.add(Dropout(0.4))\n",
        "    model.add(Dense(64, activation='relu'))\n",
        "    model.add(Dropout(0.4))\n",
        "    model.add(Dense(1, activation='sigmoid'))\n",
        "\n",
        "    model.compile(loss='binary_crossentropy',\n",
        "                  optimizer=tf.keras.optimizers.Adam(learning_rate=0.0001),\n",
        "                  metrics=['accuracy']\n",
        "                  )\n",
        "\n",
        "    model.fit(X_train, y_train,\n",
        "              verbose=1,\n",
        "              epochs=200,\n",
        "              batch_size=100,\n",
        "              callbacks=[early_stop],\n",
        "              validation_data=(X_validation, y_validation))\n",
        "\n",
        "    y_pred = model.predict(X_validation)\n",
        "    print(return_metrics(y_validation, y_pred))\n",
        "    return model"
      ]
    },
    {
      "cell_type": "code",
      "execution_count": 50,
      "metadata": {
        "id": "HeYad69nulnw"
      },
      "outputs": [],
      "source": [
        "model = neural_net(X_train, list(train_labels), X_dev, list(dev_labels))"
      ]
    },
    {
      "cell_type": "markdown",
      "metadata": {
        "id": "m1KIbbSQciHU"
      },
      "source": [
        "### XGBoost"
      ]
    },
    {
      "cell_type": "code",
      "execution_count": null,
      "metadata": {
        "id": "pU_ZyY5je-Ly"
      },
      "outputs": [],
      "source": [
        "from xgboost import XGBClassifier\n",
        "from sklearn.metrics import f1_score, roc_auc_score, roc_curve, accuracy_score, plot_roc_curve"
      ]
    },
    {
      "cell_type": "code",
      "execution_count": null,
      "metadata": {
        "colab": {
          "base_uri": "https://localhost:8080/"
        },
        "id": "EGxSKAfmcqHm",
        "outputId": "bb9e5ee3-7ff6-4c4f-f517-ba8f61a5c6ff"
      },
      "outputs": [
        {
          "name": "stdout",
          "output_type": "stream",
          "text": [
            "[0]\tvalidation_0-logloss:0.613173\n",
            "Will train until validation_0-logloss hasn't improved in 300 rounds.\n",
            "[1]\tvalidation_0-logloss:0.547619\n",
            "[2]\tvalidation_0-logloss:0.493281\n",
            "[3]\tvalidation_0-logloss:0.447015\n",
            "[4]\tvalidation_0-logloss:0.407836\n",
            "[5]\tvalidation_0-logloss:0.373888\n",
            "[6]\tvalidation_0-logloss:0.3446\n",
            "[7]\tvalidation_0-logloss:0.319157\n",
            "[8]\tvalidation_0-logloss:0.296564\n",
            "[9]\tvalidation_0-logloss:0.277044\n",
            "[10]\tvalidation_0-logloss:0.259598\n",
            "[11]\tvalidation_0-logloss:0.24444\n",
            "[12]\tvalidation_0-logloss:0.230825\n",
            "[13]\tvalidation_0-logloss:0.218558\n",
            "[14]\tvalidation_0-logloss:0.207303\n",
            "[15]\tvalidation_0-logloss:0.197545\n",
            "[16]\tvalidation_0-logloss:0.188846\n",
            "[17]\tvalidation_0-logloss:0.180731\n",
            "[18]\tvalidation_0-logloss:0.173659\n",
            "[19]\tvalidation_0-logloss:0.167402\n",
            "[20]\tvalidation_0-logloss:0.161871\n",
            "[21]\tvalidation_0-logloss:0.156519\n",
            "[22]\tvalidation_0-logloss:0.152122\n",
            "[23]\tvalidation_0-logloss:0.147919\n",
            "[24]\tvalidation_0-logloss:0.144201\n",
            "[25]\tvalidation_0-logloss:0.140646\n",
            "[26]\tvalidation_0-logloss:0.137792\n",
            "[27]\tvalidation_0-logloss:0.134866\n",
            "[28]\tvalidation_0-logloss:0.132477\n",
            "[29]\tvalidation_0-logloss:0.130083\n",
            "[30]\tvalidation_0-logloss:0.128268\n",
            "[31]\tvalidation_0-logloss:0.126454\n",
            "[32]\tvalidation_0-logloss:0.124909\n",
            "[33]\tvalidation_0-logloss:0.123283\n",
            "[34]\tvalidation_0-logloss:0.121913\n",
            "[35]\tvalidation_0-logloss:0.120297\n",
            "[36]\tvalidation_0-logloss:0.118972\n",
            "[37]\tvalidation_0-logloss:0.118089\n",
            "[38]\tvalidation_0-logloss:0.117132\n",
            "[39]\tvalidation_0-logloss:0.116108\n",
            "[40]\tvalidation_0-logloss:0.115028\n",
            "[41]\tvalidation_0-logloss:0.11422\n",
            "[42]\tvalidation_0-logloss:0.113359\n",
            "[43]\tvalidation_0-logloss:0.112611\n",
            "[44]\tvalidation_0-logloss:0.111857\n",
            "[45]\tvalidation_0-logloss:0.11158\n",
            "[46]\tvalidation_0-logloss:0.110805\n",
            "[47]\tvalidation_0-logloss:0.110179\n",
            "[48]\tvalidation_0-logloss:0.109526\n",
            "[49]\tvalidation_0-logloss:0.109423\n",
            "[50]\tvalidation_0-logloss:0.108786\n",
            "[51]\tvalidation_0-logloss:0.108261\n",
            "[52]\tvalidation_0-logloss:0.107644\n",
            "[53]\tvalidation_0-logloss:0.107241\n",
            "[54]\tvalidation_0-logloss:0.107058\n",
            "[55]\tvalidation_0-logloss:0.106379\n",
            "[56]\tvalidation_0-logloss:0.105997\n",
            "[57]\tvalidation_0-logloss:0.10572\n",
            "[58]\tvalidation_0-logloss:0.105453\n",
            "[59]\tvalidation_0-logloss:0.105184\n",
            "[60]\tvalidation_0-logloss:0.104778\n",
            "[61]\tvalidation_0-logloss:0.104526\n",
            "[62]\tvalidation_0-logloss:0.104651\n",
            "[63]\tvalidation_0-logloss:0.104392\n",
            "[64]\tvalidation_0-logloss:0.103898\n",
            "[65]\tvalidation_0-logloss:0.10408\n",
            "[66]\tvalidation_0-logloss:0.103768\n",
            "[67]\tvalidation_0-logloss:0.10348\n",
            "[68]\tvalidation_0-logloss:0.103143\n",
            "[69]\tvalidation_0-logloss:0.103024\n",
            "[70]\tvalidation_0-logloss:0.102751\n",
            "[71]\tvalidation_0-logloss:0.102876\n",
            "[72]\tvalidation_0-logloss:0.102642\n",
            "[73]\tvalidation_0-logloss:0.102454\n",
            "[74]\tvalidation_0-logloss:0.102326\n",
            "[75]\tvalidation_0-logloss:0.102096\n",
            "[76]\tvalidation_0-logloss:0.102042\n",
            "[77]\tvalidation_0-logloss:0.101889\n",
            "[78]\tvalidation_0-logloss:0.101713\n",
            "[79]\tvalidation_0-logloss:0.101866\n",
            "[80]\tvalidation_0-logloss:0.101656\n",
            "[81]\tvalidation_0-logloss:0.101483\n",
            "[82]\tvalidation_0-logloss:0.101317\n",
            "[83]\tvalidation_0-logloss:0.101547\n",
            "[84]\tvalidation_0-logloss:0.10137\n",
            "[85]\tvalidation_0-logloss:0.101197\n",
            "[86]\tvalidation_0-logloss:0.101061\n",
            "[87]\tvalidation_0-logloss:0.100955\n",
            "[88]\tvalidation_0-logloss:0.100774\n",
            "[89]\tvalidation_0-logloss:0.10059\n",
            "[90]\tvalidation_0-logloss:0.100463\n",
            "[91]\tvalidation_0-logloss:0.100305\n",
            "[92]\tvalidation_0-logloss:0.10012\n",
            "[93]\tvalidation_0-logloss:0.100334\n",
            "[94]\tvalidation_0-logloss:0.100193\n",
            "[95]\tvalidation_0-logloss:0.100094\n",
            "[96]\tvalidation_0-logloss:0.100196\n",
            "[97]\tvalidation_0-logloss:0.100009\n",
            "[98]\tvalidation_0-logloss:0.09982\n",
            "[99]\tvalidation_0-logloss:0.099642\n",
            "[100]\tvalidation_0-logloss:0.09951\n",
            "[101]\tvalidation_0-logloss:0.0994\n",
            "[102]\tvalidation_0-logloss:0.09936\n",
            "[103]\tvalidation_0-logloss:0.099273\n",
            "[104]\tvalidation_0-logloss:0.09922\n",
            "[105]\tvalidation_0-logloss:0.099076\n",
            "[106]\tvalidation_0-logloss:0.09901\n",
            "[107]\tvalidation_0-logloss:0.098992\n",
            "[108]\tvalidation_0-logloss:0.098783\n",
            "[109]\tvalidation_0-logloss:0.098996\n",
            "[110]\tvalidation_0-logloss:0.098941\n",
            "[111]\tvalidation_0-logloss:0.098861\n",
            "[112]\tvalidation_0-logloss:0.098764\n",
            "[113]\tvalidation_0-logloss:0.098652\n",
            "[114]\tvalidation_0-logloss:0.098541\n",
            "[115]\tvalidation_0-logloss:0.098504\n",
            "[116]\tvalidation_0-logloss:0.098278\n",
            "[117]\tvalidation_0-logloss:0.098413\n",
            "[118]\tvalidation_0-logloss:0.098318\n",
            "[119]\tvalidation_0-logloss:0.09821\n",
            "[120]\tvalidation_0-logloss:0.098128\n",
            "[121]\tvalidation_0-logloss:0.098064\n",
            "[122]\tvalidation_0-logloss:0.097967\n",
            "[123]\tvalidation_0-logloss:0.098184\n",
            "[124]\tvalidation_0-logloss:0.098288\n",
            "[125]\tvalidation_0-logloss:0.098143\n",
            "[126]\tvalidation_0-logloss:0.098081\n",
            "[127]\tvalidation_0-logloss:0.098041\n",
            "[128]\tvalidation_0-logloss:0.097936\n",
            "[129]\tvalidation_0-logloss:0.097778\n",
            "[130]\tvalidation_0-logloss:0.09778\n",
            "[131]\tvalidation_0-logloss:0.097668\n",
            "[132]\tvalidation_0-logloss:0.097615\n",
            "[133]\tvalidation_0-logloss:0.097542\n",
            "[134]\tvalidation_0-logloss:0.097448\n",
            "[135]\tvalidation_0-logloss:0.097655\n",
            "[136]\tvalidation_0-logloss:0.097506\n",
            "[137]\tvalidation_0-logloss:0.097473\n",
            "[138]\tvalidation_0-logloss:0.097408\n",
            "[139]\tvalidation_0-logloss:0.097331\n",
            "[140]\tvalidation_0-logloss:0.097579\n",
            "[141]\tvalidation_0-logloss:0.097533\n",
            "[142]\tvalidation_0-logloss:0.097467\n",
            "[143]\tvalidation_0-logloss:0.09737\n",
            "[144]\tvalidation_0-logloss:0.097214\n",
            "[145]\tvalidation_0-logloss:0.097214\n",
            "[146]\tvalidation_0-logloss:0.097168\n",
            "[147]\tvalidation_0-logloss:0.097104\n",
            "[148]\tvalidation_0-logloss:0.097048\n",
            "[149]\tvalidation_0-logloss:0.096989\n",
            "[150]\tvalidation_0-logloss:0.096992\n",
            "[151]\tvalidation_0-logloss:0.09694\n",
            "[152]\tvalidation_0-logloss:0.096892\n",
            "[153]\tvalidation_0-logloss:0.096864\n",
            "[154]\tvalidation_0-logloss:0.096786\n",
            "[155]\tvalidation_0-logloss:0.096701\n",
            "[156]\tvalidation_0-logloss:0.096853\n",
            "[157]\tvalidation_0-logloss:0.09672\n",
            "[158]\tvalidation_0-logloss:0.09665\n",
            "[159]\tvalidation_0-logloss:0.096644\n",
            "[160]\tvalidation_0-logloss:0.096638\n",
            "[161]\tvalidation_0-logloss:0.096601\n",
            "[162]\tvalidation_0-logloss:0.096537\n",
            "[163]\tvalidation_0-logloss:0.096487\n",
            "[164]\tvalidation_0-logloss:0.096447\n",
            "[165]\tvalidation_0-logloss:0.096382\n",
            "[166]\tvalidation_0-logloss:0.096282\n",
            "[167]\tvalidation_0-logloss:0.096127\n",
            "[168]\tvalidation_0-logloss:0.096288\n",
            "[169]\tvalidation_0-logloss:0.096286\n",
            "[170]\tvalidation_0-logloss:0.096222\n",
            "[171]\tvalidation_0-logloss:0.096218\n",
            "[172]\tvalidation_0-logloss:0.096154\n",
            "[173]\tvalidation_0-logloss:0.096037\n",
            "[174]\tvalidation_0-logloss:0.09597\n",
            "[175]\tvalidation_0-logloss:0.09593\n",
            "[176]\tvalidation_0-logloss:0.096196\n",
            "[177]\tvalidation_0-logloss:0.096077\n",
            "[178]\tvalidation_0-logloss:0.095978\n",
            "[179]\tvalidation_0-logloss:0.095949\n",
            "[180]\tvalidation_0-logloss:0.095922\n",
            "[181]\tvalidation_0-logloss:0.095872\n",
            "[182]\tvalidation_0-logloss:0.096074\n",
            "[183]\tvalidation_0-logloss:0.096017\n",
            "[184]\tvalidation_0-logloss:0.095995\n",
            "[185]\tvalidation_0-logloss:0.095878\n",
            "[186]\tvalidation_0-logloss:0.095831\n",
            "[187]\tvalidation_0-logloss:0.095802\n",
            "[188]\tvalidation_0-logloss:0.095738\n",
            "[189]\tvalidation_0-logloss:0.095709\n",
            "[190]\tvalidation_0-logloss:0.095689\n",
            "[191]\tvalidation_0-logloss:0.095648\n",
            "[192]\tvalidation_0-logloss:0.095584\n",
            "[193]\tvalidation_0-logloss:0.095516\n",
            "[194]\tvalidation_0-logloss:0.095483\n",
            "[195]\tvalidation_0-logloss:0.095623\n",
            "[196]\tvalidation_0-logloss:0.095716\n",
            "[197]\tvalidation_0-logloss:0.09566\n",
            "[198]\tvalidation_0-logloss:0.095615\n",
            "[199]\tvalidation_0-logloss:0.095571\n",
            "[200]\tvalidation_0-logloss:0.095496\n",
            "[201]\tvalidation_0-logloss:0.095452\n",
            "[202]\tvalidation_0-logloss:0.095408\n",
            "[203]\tvalidation_0-logloss:0.095359\n",
            "[204]\tvalidation_0-logloss:0.095311\n",
            "[205]\tvalidation_0-logloss:0.095281\n",
            "[206]\tvalidation_0-logloss:0.095263\n",
            "[207]\tvalidation_0-logloss:0.095154\n",
            "[208]\tvalidation_0-logloss:0.095364\n",
            "[209]\tvalidation_0-logloss:0.095294\n",
            "[210]\tvalidation_0-logloss:0.095233\n",
            "[211]\tvalidation_0-logloss:0.095067\n",
            "[212]\tvalidation_0-logloss:0.095094\n",
            "[213]\tvalidation_0-logloss:0.095039\n",
            "[214]\tvalidation_0-logloss:0.095008\n",
            "[215]\tvalidation_0-logloss:0.09496\n",
            "[216]\tvalidation_0-logloss:0.094956\n",
            "[217]\tvalidation_0-logloss:0.094925\n",
            "[218]\tvalidation_0-logloss:0.094893\n",
            "[219]\tvalidation_0-logloss:0.09478\n",
            "[220]\tvalidation_0-logloss:0.09473\n",
            "[221]\tvalidation_0-logloss:0.094703\n",
            "[222]\tvalidation_0-logloss:0.094674\n",
            "[223]\tvalidation_0-logloss:0.094662\n",
            "[224]\tvalidation_0-logloss:0.094614\n",
            "[225]\tvalidation_0-logloss:0.094777\n",
            "[226]\tvalidation_0-logloss:0.094702\n",
            "[227]\tvalidation_0-logloss:0.09467\n",
            "[228]\tvalidation_0-logloss:0.094639\n",
            "[229]\tvalidation_0-logloss:0.094595\n",
            "[230]\tvalidation_0-logloss:0.094571\n",
            "[231]\tvalidation_0-logloss:0.094503\n",
            "[232]\tvalidation_0-logloss:0.094419\n",
            "[233]\tvalidation_0-logloss:0.094475\n",
            "[234]\tvalidation_0-logloss:0.094416\n",
            "[235]\tvalidation_0-logloss:0.094353\n",
            "[236]\tvalidation_0-logloss:0.094336\n",
            "[237]\tvalidation_0-logloss:0.094298\n",
            "[238]\tvalidation_0-logloss:0.094256\n",
            "[239]\tvalidation_0-logloss:0.094303\n",
            "[240]\tvalidation_0-logloss:0.094252\n",
            "[241]\tvalidation_0-logloss:0.094412\n",
            "[242]\tvalidation_0-logloss:0.094344\n",
            "[243]\tvalidation_0-logloss:0.094228\n",
            "[244]\tvalidation_0-logloss:0.094189\n",
            "[245]\tvalidation_0-logloss:0.094367\n",
            "[246]\tvalidation_0-logloss:0.094328\n",
            "[247]\tvalidation_0-logloss:0.094284\n",
            "[248]\tvalidation_0-logloss:0.094231\n",
            "[249]\tvalidation_0-logloss:0.094194\n",
            "[250]\tvalidation_0-logloss:0.094152\n",
            "[251]\tvalidation_0-logloss:0.094094\n",
            "[252]\tvalidation_0-logloss:0.094082\n",
            "[253]\tvalidation_0-logloss:0.094033\n",
            "[254]\tvalidation_0-logloss:0.094011\n",
            "[255]\tvalidation_0-logloss:0.09392\n",
            "[256]\tvalidation_0-logloss:0.093795\n",
            "[257]\tvalidation_0-logloss:0.093787\n",
            "[258]\tvalidation_0-logloss:0.093785\n",
            "[259]\tvalidation_0-logloss:0.093675\n",
            "[260]\tvalidation_0-logloss:0.093575\n",
            "[261]\tvalidation_0-logloss:0.093726\n",
            "[262]\tvalidation_0-logloss:0.093682\n",
            "[263]\tvalidation_0-logloss:0.093635\n",
            "[264]\tvalidation_0-logloss:0.093619\n",
            "[265]\tvalidation_0-logloss:0.093633\n",
            "[266]\tvalidation_0-logloss:0.093623\n",
            "[267]\tvalidation_0-logloss:0.093601\n",
            "[268]\tvalidation_0-logloss:0.093537\n",
            "[269]\tvalidation_0-logloss:0.093465\n",
            "[270]\tvalidation_0-logloss:0.093413\n",
            "[271]\tvalidation_0-logloss:0.09331\n",
            "[272]\tvalidation_0-logloss:0.093488\n",
            "[273]\tvalidation_0-logloss:0.0935\n",
            "[274]\tvalidation_0-logloss:0.093446\n",
            "[275]\tvalidation_0-logloss:0.093367\n",
            "[276]\tvalidation_0-logloss:0.09334\n",
            "[277]\tvalidation_0-logloss:0.09337\n",
            "[278]\tvalidation_0-logloss:0.093657\n",
            "[279]\tvalidation_0-logloss:0.093605\n",
            "[280]\tvalidation_0-logloss:0.093571\n",
            "[281]\tvalidation_0-logloss:0.093564\n",
            "[282]\tvalidation_0-logloss:0.093519\n",
            "[283]\tvalidation_0-logloss:0.093494\n",
            "[284]\tvalidation_0-logloss:0.093485\n",
            "[285]\tvalidation_0-logloss:0.093413\n",
            "[286]\tvalidation_0-logloss:0.093395\n",
            "[287]\tvalidation_0-logloss:0.093402\n",
            "[288]\tvalidation_0-logloss:0.093362\n",
            "[289]\tvalidation_0-logloss:0.093329\n",
            "[290]\tvalidation_0-logloss:0.093274\n",
            "[291]\tvalidation_0-logloss:0.093239\n",
            "[292]\tvalidation_0-logloss:0.093208\n",
            "[293]\tvalidation_0-logloss:0.093536\n",
            "[294]\tvalidation_0-logloss:0.09353\n",
            "[295]\tvalidation_0-logloss:0.09345\n",
            "[296]\tvalidation_0-logloss:0.093402\n",
            "[297]\tvalidation_0-logloss:0.093348\n",
            "[298]\tvalidation_0-logloss:0.093323\n",
            "[299]\tvalidation_0-logloss:0.093309\n",
            "[300]\tvalidation_0-logloss:0.093469\n",
            "[301]\tvalidation_0-logloss:0.093399\n",
            "[302]\tvalidation_0-logloss:0.093351\n",
            "[303]\tvalidation_0-logloss:0.093318\n",
            "[304]\tvalidation_0-logloss:0.093282\n",
            "[305]\tvalidation_0-logloss:0.093255\n",
            "[306]\tvalidation_0-logloss:0.093217\n",
            "[307]\tvalidation_0-logloss:0.093183\n",
            "[308]\tvalidation_0-logloss:0.09316\n",
            "[309]\tvalidation_0-logloss:0.093147\n",
            "[310]\tvalidation_0-logloss:0.093161\n",
            "[311]\tvalidation_0-logloss:0.093108\n",
            "[312]\tvalidation_0-logloss:0.093097\n",
            "[313]\tvalidation_0-logloss:0.09309\n",
            "[314]\tvalidation_0-logloss:0.093015\n",
            "[315]\tvalidation_0-logloss:0.092979\n",
            "[316]\tvalidation_0-logloss:0.092895\n",
            "[317]\tvalidation_0-logloss:0.093047\n",
            "[318]\tvalidation_0-logloss:0.093038\n",
            "[319]\tvalidation_0-logloss:0.093029\n",
            "[320]\tvalidation_0-logloss:0.093066\n",
            "[321]\tvalidation_0-logloss:0.092976\n",
            "[322]\tvalidation_0-logloss:0.093159\n",
            "[323]\tvalidation_0-logloss:0.093125\n",
            "[324]\tvalidation_0-logloss:0.093057\n",
            "[325]\tvalidation_0-logloss:0.092988\n",
            "[326]\tvalidation_0-logloss:0.092963\n",
            "[327]\tvalidation_0-logloss:0.092905\n",
            "[328]\tvalidation_0-logloss:0.092875\n",
            "[329]\tvalidation_0-logloss:0.092866\n",
            "[330]\tvalidation_0-logloss:0.09286\n",
            "[331]\tvalidation_0-logloss:0.092793\n",
            "[332]\tvalidation_0-logloss:0.092759\n",
            "[333]\tvalidation_0-logloss:0.092727\n",
            "[334]\tvalidation_0-logloss:0.092712\n",
            "[335]\tvalidation_0-logloss:0.092883\n",
            "[336]\tvalidation_0-logloss:0.092861\n",
            "[337]\tvalidation_0-logloss:0.092853\n",
            "[338]\tvalidation_0-logloss:0.092852\n",
            "[339]\tvalidation_0-logloss:0.092843\n",
            "[340]\tvalidation_0-logloss:0.092825\n",
            "[341]\tvalidation_0-logloss:0.092776\n",
            "[342]\tvalidation_0-logloss:0.092763\n",
            "[343]\tvalidation_0-logloss:0.092708\n",
            "[344]\tvalidation_0-logloss:0.092665\n",
            "[345]\tvalidation_0-logloss:0.092598\n",
            "[346]\tvalidation_0-logloss:0.092559\n",
            "[347]\tvalidation_0-logloss:0.092538\n",
            "[348]\tvalidation_0-logloss:0.092469\n",
            "[349]\tvalidation_0-logloss:0.092448\n",
            "[350]\tvalidation_0-logloss:0.092676\n",
            "[351]\tvalidation_0-logloss:0.09266\n",
            "[352]\tvalidation_0-logloss:0.09259\n",
            "[353]\tvalidation_0-logloss:0.092563\n",
            "[354]\tvalidation_0-logloss:0.09252\n",
            "[355]\tvalidation_0-logloss:0.092489\n",
            "[356]\tvalidation_0-logloss:0.092465\n",
            "[357]\tvalidation_0-logloss:0.092449\n",
            "[358]\tvalidation_0-logloss:0.092452\n",
            "[359]\tvalidation_0-logloss:0.092446\n",
            "[360]\tvalidation_0-logloss:0.092391\n",
            "[361]\tvalidation_0-logloss:0.09237\n",
            "[362]\tvalidation_0-logloss:0.092719\n",
            "[363]\tvalidation_0-logloss:0.092683\n",
            "[364]\tvalidation_0-logloss:0.092615\n",
            "[365]\tvalidation_0-logloss:0.0926\n",
            "[366]\tvalidation_0-logloss:0.092598\n",
            "[367]\tvalidation_0-logloss:0.092583\n",
            "[368]\tvalidation_0-logloss:0.092563\n",
            "[369]\tvalidation_0-logloss:0.092589\n",
            "[370]\tvalidation_0-logloss:0.092577\n",
            "[371]\tvalidation_0-logloss:0.092543\n",
            "[372]\tvalidation_0-logloss:0.092543\n",
            "[373]\tvalidation_0-logloss:0.092525\n",
            "[374]\tvalidation_0-logloss:0.092523\n",
            "[375]\tvalidation_0-logloss:0.092696\n",
            "[376]\tvalidation_0-logloss:0.092657\n",
            "[377]\tvalidation_0-logloss:0.092605\n",
            "[378]\tvalidation_0-logloss:0.092576\n",
            "[379]\tvalidation_0-logloss:0.092552\n",
            "[380]\tvalidation_0-logloss:0.092534\n",
            "[381]\tvalidation_0-logloss:0.092518\n",
            "[382]\tvalidation_0-logloss:0.092504\n",
            "[383]\tvalidation_0-logloss:0.092508\n",
            "[384]\tvalidation_0-logloss:0.092488\n",
            "[385]\tvalidation_0-logloss:0.09244\n",
            "[386]\tvalidation_0-logloss:0.092422\n",
            "[387]\tvalidation_0-logloss:0.092388\n",
            "[388]\tvalidation_0-logloss:0.092377\n",
            "[389]\tvalidation_0-logloss:0.092352\n",
            "[390]\tvalidation_0-logloss:0.092354\n",
            "[391]\tvalidation_0-logloss:0.092334\n",
            "[392]\tvalidation_0-logloss:0.092335\n",
            "[393]\tvalidation_0-logloss:0.092334\n",
            "[394]\tvalidation_0-logloss:0.092333\n",
            "[395]\tvalidation_0-logloss:0.092313\n",
            "[396]\tvalidation_0-logloss:0.092452\n",
            "[397]\tvalidation_0-logloss:0.092438\n",
            "[398]\tvalidation_0-logloss:0.092447\n",
            "[399]\tvalidation_0-logloss:0.092419\n",
            "[400]\tvalidation_0-logloss:0.092567\n",
            "[401]\tvalidation_0-logloss:0.092525\n",
            "[402]\tvalidation_0-logloss:0.092519\n",
            "[403]\tvalidation_0-logloss:0.092504\n",
            "[404]\tvalidation_0-logloss:0.092496\n",
            "[405]\tvalidation_0-logloss:0.092463\n",
            "[406]\tvalidation_0-logloss:0.092455\n",
            "[407]\tvalidation_0-logloss:0.092462\n",
            "[408]\tvalidation_0-logloss:0.092472\n",
            "[409]\tvalidation_0-logloss:0.092437\n",
            "[410]\tvalidation_0-logloss:0.092406\n",
            "[411]\tvalidation_0-logloss:0.092335\n",
            "[412]\tvalidation_0-logloss:0.092289\n",
            "[413]\tvalidation_0-logloss:0.092255\n",
            "[414]\tvalidation_0-logloss:0.092183\n",
            "[415]\tvalidation_0-logloss:0.092174\n",
            "[416]\tvalidation_0-logloss:0.092139\n",
            "[417]\tvalidation_0-logloss:0.092128\n",
            "[418]\tvalidation_0-logloss:0.092126\n",
            "[419]\tvalidation_0-logloss:0.092113\n",
            "[420]\tvalidation_0-logloss:0.092078\n",
            "[421]\tvalidation_0-logloss:0.092008\n",
            "[422]\tvalidation_0-logloss:0.092233\n",
            "[423]\tvalidation_0-logloss:0.09226\n",
            "[424]\tvalidation_0-logloss:0.092304\n",
            "[425]\tvalidation_0-logloss:0.092284\n",
            "[426]\tvalidation_0-logloss:0.09226\n",
            "[427]\tvalidation_0-logloss:0.09224\n",
            "[428]\tvalidation_0-logloss:0.092219\n",
            "[429]\tvalidation_0-logloss:0.092215\n",
            "[430]\tvalidation_0-logloss:0.092169\n",
            "[431]\tvalidation_0-logloss:0.092119\n",
            "[432]\tvalidation_0-logloss:0.092049\n",
            "[433]\tvalidation_0-logloss:0.092045\n",
            "[434]\tvalidation_0-logloss:0.092152\n",
            "[435]\tvalidation_0-logloss:0.092107\n",
            "[436]\tvalidation_0-logloss:0.092098\n",
            "[437]\tvalidation_0-logloss:0.092062\n",
            "[438]\tvalidation_0-logloss:0.09204\n",
            "[439]\tvalidation_0-logloss:0.092043\n",
            "[440]\tvalidation_0-logloss:0.092019\n",
            "[441]\tvalidation_0-logloss:0.091978\n",
            "[442]\tvalidation_0-logloss:0.091953\n",
            "[443]\tvalidation_0-logloss:0.09211\n",
            "[444]\tvalidation_0-logloss:0.092099\n",
            "[445]\tvalidation_0-logloss:0.092074\n",
            "[446]\tvalidation_0-logloss:0.092079\n",
            "[447]\tvalidation_0-logloss:0.092079\n",
            "[448]\tvalidation_0-logloss:0.092018\n",
            "[449]\tvalidation_0-logloss:0.092\n",
            "[450]\tvalidation_0-logloss:0.091998\n",
            "[451]\tvalidation_0-logloss:0.091962\n",
            "[452]\tvalidation_0-logloss:0.09195\n",
            "[453]\tvalidation_0-logloss:0.091976\n",
            "[454]\tvalidation_0-logloss:0.091968\n",
            "[455]\tvalidation_0-logloss:0.091939\n",
            "[456]\tvalidation_0-logloss:0.091933\n",
            "[457]\tvalidation_0-logloss:0.091915\n",
            "[458]\tvalidation_0-logloss:0.09192\n",
            "[459]\tvalidation_0-logloss:0.091908\n",
            "[460]\tvalidation_0-logloss:0.091898\n",
            "[461]\tvalidation_0-logloss:0.091878\n",
            "[462]\tvalidation_0-logloss:0.091868\n",
            "[463]\tvalidation_0-logloss:0.091838\n",
            "[464]\tvalidation_0-logloss:0.091801\n",
            "[465]\tvalidation_0-logloss:0.091789\n",
            "[466]\tvalidation_0-logloss:0.09178\n",
            "[467]\tvalidation_0-logloss:0.091737\n",
            "[468]\tvalidation_0-logloss:0.091864\n",
            "[469]\tvalidation_0-logloss:0.091844\n",
            "[470]\tvalidation_0-logloss:0.091833\n",
            "[471]\tvalidation_0-logloss:0.091807\n",
            "[472]\tvalidation_0-logloss:0.091789\n",
            "[473]\tvalidation_0-logloss:0.091787\n",
            "[474]\tvalidation_0-logloss:0.091951\n",
            "[475]\tvalidation_0-logloss:0.091926\n",
            "[476]\tvalidation_0-logloss:0.091868\n",
            "[477]\tvalidation_0-logloss:0.091837\n",
            "[478]\tvalidation_0-logloss:0.091838\n",
            "[479]\tvalidation_0-logloss:0.091811\n",
            "[480]\tvalidation_0-logloss:0.091816\n",
            "[481]\tvalidation_0-logloss:0.09179\n",
            "[482]\tvalidation_0-logloss:0.091724\n",
            "[483]\tvalidation_0-logloss:0.091723\n",
            "[484]\tvalidation_0-logloss:0.09172\n",
            "[485]\tvalidation_0-logloss:0.09169\n",
            "[486]\tvalidation_0-logloss:0.091696\n",
            "[487]\tvalidation_0-logloss:0.091664\n",
            "[488]\tvalidation_0-logloss:0.091648\n",
            "[489]\tvalidation_0-logloss:0.09163\n",
            "[490]\tvalidation_0-logloss:0.091645\n",
            "[491]\tvalidation_0-logloss:0.091666\n",
            "[492]\tvalidation_0-logloss:0.091666\n",
            "[493]\tvalidation_0-logloss:0.09161\n",
            "[494]\tvalidation_0-logloss:0.09162\n",
            "[495]\tvalidation_0-logloss:0.091588\n",
            "[496]\tvalidation_0-logloss:0.091564\n",
            "[497]\tvalidation_0-logloss:0.091539\n",
            "[498]\tvalidation_0-logloss:0.091534\n",
            "[499]\tvalidation_0-logloss:0.091772\n",
            "[500]\tvalidation_0-logloss:0.09175\n",
            "[501]\tvalidation_0-logloss:0.091736\n",
            "[502]\tvalidation_0-logloss:0.09172\n",
            "[503]\tvalidation_0-logloss:0.09186\n",
            "[504]\tvalidation_0-logloss:0.091844\n",
            "[505]\tvalidation_0-logloss:0.091826\n",
            "[506]\tvalidation_0-logloss:0.091812\n",
            "[507]\tvalidation_0-logloss:0.091799\n",
            "[508]\tvalidation_0-logloss:0.091782\n",
            "[509]\tvalidation_0-logloss:0.091761\n",
            "[510]\tvalidation_0-logloss:0.091746\n",
            "[511]\tvalidation_0-logloss:0.09173\n",
            "[512]\tvalidation_0-logloss:0.09172\n",
            "[513]\tvalidation_0-logloss:0.091675\n",
            "[514]\tvalidation_0-logloss:0.091666\n",
            "[515]\tvalidation_0-logloss:0.091661\n",
            "[516]\tvalidation_0-logloss:0.091634\n",
            "[517]\tvalidation_0-logloss:0.091627\n",
            "[518]\tvalidation_0-logloss:0.091624\n",
            "[519]\tvalidation_0-logloss:0.091773\n",
            "[520]\tvalidation_0-logloss:0.091771\n",
            "[521]\tvalidation_0-logloss:0.09177\n",
            "[522]\tvalidation_0-logloss:0.091741\n",
            "[523]\tvalidation_0-logloss:0.091732\n",
            "[524]\tvalidation_0-logloss:0.091732\n",
            "[525]\tvalidation_0-logloss:0.091709\n",
            "[526]\tvalidation_0-logloss:0.091675\n",
            "[527]\tvalidation_0-logloss:0.091668\n",
            "[528]\tvalidation_0-logloss:0.091638\n",
            "[529]\tvalidation_0-logloss:0.091835\n",
            "[530]\tvalidation_0-logloss:0.091781\n",
            "[531]\tvalidation_0-logloss:0.091732\n",
            "[532]\tvalidation_0-logloss:0.091738\n",
            "[533]\tvalidation_0-logloss:0.091705\n",
            "[534]\tvalidation_0-logloss:0.091699\n",
            "[535]\tvalidation_0-logloss:0.091689\n",
            "[536]\tvalidation_0-logloss:0.09192\n",
            "[537]\tvalidation_0-logloss:0.091916\n",
            "[538]\tvalidation_0-logloss:0.091906\n",
            "[539]\tvalidation_0-logloss:0.091889\n",
            "[540]\tvalidation_0-logloss:0.091887\n",
            "[541]\tvalidation_0-logloss:0.091863\n",
            "[542]\tvalidation_0-logloss:0.091865\n",
            "[543]\tvalidation_0-logloss:0.091869\n",
            "[544]\tvalidation_0-logloss:0.09185\n",
            "[545]\tvalidation_0-logloss:0.091845\n",
            "[546]\tvalidation_0-logloss:0.091981\n",
            "[547]\tvalidation_0-logloss:0.091967\n",
            "[548]\tvalidation_0-logloss:0.091941\n",
            "[549]\tvalidation_0-logloss:0.091951\n",
            "[550]\tvalidation_0-logloss:0.091937\n",
            "[551]\tvalidation_0-logloss:0.091922\n",
            "[552]\tvalidation_0-logloss:0.091927\n",
            "[553]\tvalidation_0-logloss:0.091908\n",
            "[554]\tvalidation_0-logloss:0.091906\n",
            "[555]\tvalidation_0-logloss:0.091901\n",
            "[556]\tvalidation_0-logloss:0.091878\n",
            "[557]\tvalidation_0-logloss:0.092242\n",
            "[558]\tvalidation_0-logloss:0.092203\n",
            "[559]\tvalidation_0-logloss:0.092199\n",
            "[560]\tvalidation_0-logloss:0.092195\n",
            "[561]\tvalidation_0-logloss:0.092145\n",
            "[562]\tvalidation_0-logloss:0.09213\n",
            "[563]\tvalidation_0-logloss:0.092129\n",
            "[564]\tvalidation_0-logloss:0.092103\n",
            "[565]\tvalidation_0-logloss:0.092099\n",
            "[566]\tvalidation_0-logloss:0.092078\n",
            "[567]\tvalidation_0-logloss:0.092213\n",
            "[568]\tvalidation_0-logloss:0.092208\n",
            "[569]\tvalidation_0-logloss:0.092193\n",
            "[570]\tvalidation_0-logloss:0.092163\n",
            "[571]\tvalidation_0-logloss:0.092161\n",
            "[572]\tvalidation_0-logloss:0.092157\n",
            "[573]\tvalidation_0-logloss:0.092115\n",
            "[574]\tvalidation_0-logloss:0.09211\n",
            "[575]\tvalidation_0-logloss:0.092093\n",
            "[576]\tvalidation_0-logloss:0.092093\n",
            "[577]\tvalidation_0-logloss:0.092099\n",
            "[578]\tvalidation_0-logloss:0.092091\n",
            "[579]\tvalidation_0-logloss:0.092062\n",
            "[580]\tvalidation_0-logloss:0.092028\n",
            "[581]\tvalidation_0-logloss:0.09201\n",
            "[582]\tvalidation_0-logloss:0.091993\n",
            "[583]\tvalidation_0-logloss:0.09198\n",
            "[584]\tvalidation_0-logloss:0.091973\n",
            "[585]\tvalidation_0-logloss:0.09195\n",
            "[586]\tvalidation_0-logloss:0.091934\n",
            "[587]\tvalidation_0-logloss:0.091891\n",
            "[588]\tvalidation_0-logloss:0.092095\n",
            "[589]\tvalidation_0-logloss:0.092096\n",
            "[590]\tvalidation_0-logloss:0.092074\n",
            "[591]\tvalidation_0-logloss:0.092059\n",
            "[592]\tvalidation_0-logloss:0.09205\n",
            "[593]\tvalidation_0-logloss:0.091988\n",
            "[594]\tvalidation_0-logloss:0.091977\n",
            "[595]\tvalidation_0-logloss:0.092014\n",
            "[596]\tvalidation_0-logloss:0.092011\n",
            "[597]\tvalidation_0-logloss:0.092009\n",
            "[598]\tvalidation_0-logloss:0.091983\n",
            "[599]\tvalidation_0-logloss:0.092121\n",
            "[600]\tvalidation_0-logloss:0.092093\n",
            "[601]\tvalidation_0-logloss:0.092075\n",
            "[602]\tvalidation_0-logloss:0.09206\n",
            "[603]\tvalidation_0-logloss:0.092008\n",
            "[604]\tvalidation_0-logloss:0.092004\n",
            "[605]\tvalidation_0-logloss:0.092243\n",
            "[606]\tvalidation_0-logloss:0.092249\n",
            "[607]\tvalidation_0-logloss:0.092235\n",
            "[608]\tvalidation_0-logloss:0.092227\n",
            "[609]\tvalidation_0-logloss:0.092221\n",
            "[610]\tvalidation_0-logloss:0.092211\n",
            "[611]\tvalidation_0-logloss:0.092206\n",
            "[612]\tvalidation_0-logloss:0.092177\n",
            "[613]\tvalidation_0-logloss:0.092188\n",
            "[614]\tvalidation_0-logloss:0.092174\n",
            "[615]\tvalidation_0-logloss:0.092167\n",
            "[616]\tvalidation_0-logloss:0.092328\n",
            "[617]\tvalidation_0-logloss:0.092304\n",
            "[618]\tvalidation_0-logloss:0.092388\n",
            "[619]\tvalidation_0-logloss:0.092382\n",
            "[620]\tvalidation_0-logloss:0.092372\n",
            "[621]\tvalidation_0-logloss:0.092355\n",
            "[622]\tvalidation_0-logloss:0.09235\n",
            "[623]\tvalidation_0-logloss:0.092338\n",
            "[624]\tvalidation_0-logloss:0.092336\n",
            "[625]\tvalidation_0-logloss:0.092331\n",
            "[626]\tvalidation_0-logloss:0.092321\n",
            "[627]\tvalidation_0-logloss:0.092311\n",
            "[628]\tvalidation_0-logloss:0.092293\n",
            "[629]\tvalidation_0-logloss:0.09226\n",
            "[630]\tvalidation_0-logloss:0.09227\n",
            "[631]\tvalidation_0-logloss:0.092265\n",
            "[632]\tvalidation_0-logloss:0.092224\n",
            "[633]\tvalidation_0-logloss:0.092214\n",
            "[634]\tvalidation_0-logloss:0.092222\n",
            "[635]\tvalidation_0-logloss:0.092216\n",
            "[636]\tvalidation_0-logloss:0.092219\n",
            "[637]\tvalidation_0-logloss:0.092206\n",
            "[638]\tvalidation_0-logloss:0.092179\n",
            "[639]\tvalidation_0-logloss:0.092182\n",
            "[640]\tvalidation_0-logloss:0.092149\n",
            "[641]\tvalidation_0-logloss:0.092111\n",
            "[642]\tvalidation_0-logloss:0.092116\n",
            "[643]\tvalidation_0-logloss:0.092122\n",
            "[644]\tvalidation_0-logloss:0.092096\n",
            "[645]\tvalidation_0-logloss:0.092316\n",
            "[646]\tvalidation_0-logloss:0.092293\n",
            "[647]\tvalidation_0-logloss:0.09228\n",
            "[648]\tvalidation_0-logloss:0.092266\n",
            "[649]\tvalidation_0-logloss:0.092271\n",
            "[650]\tvalidation_0-logloss:0.092265\n",
            "[651]\tvalidation_0-logloss:0.092262\n",
            "[652]\tvalidation_0-logloss:0.092256\n",
            "[653]\tvalidation_0-logloss:0.092244\n",
            "[654]\tvalidation_0-logloss:0.092251\n",
            "[655]\tvalidation_0-logloss:0.09225\n",
            "[656]\tvalidation_0-logloss:0.092323\n",
            "[657]\tvalidation_0-logloss:0.092326\n",
            "[658]\tvalidation_0-logloss:0.092655\n",
            "[659]\tvalidation_0-logloss:0.092636\n",
            "[660]\tvalidation_0-logloss:0.092621\n",
            "[661]\tvalidation_0-logloss:0.092605\n",
            "[662]\tvalidation_0-logloss:0.092591\n",
            "[663]\tvalidation_0-logloss:0.09258\n",
            "[664]\tvalidation_0-logloss:0.092575\n",
            "[665]\tvalidation_0-logloss:0.092558\n",
            "[666]\tvalidation_0-logloss:0.092705\n",
            "[667]\tvalidation_0-logloss:0.092692\n",
            "[668]\tvalidation_0-logloss:0.092686\n",
            "[669]\tvalidation_0-logloss:0.09266\n",
            "[670]\tvalidation_0-logloss:0.092641\n",
            "[671]\tvalidation_0-logloss:0.092616\n",
            "[672]\tvalidation_0-logloss:0.092608\n",
            "[673]\tvalidation_0-logloss:0.092583\n",
            "[674]\tvalidation_0-logloss:0.092596\n",
            "[675]\tvalidation_0-logloss:0.092586\n",
            "[676]\tvalidation_0-logloss:0.09263\n",
            "[677]\tvalidation_0-logloss:0.092624\n",
            "[678]\tvalidation_0-logloss:0.092623\n",
            "[679]\tvalidation_0-logloss:0.092624\n",
            "[680]\tvalidation_0-logloss:0.092614\n",
            "[681]\tvalidation_0-logloss:0.092595\n",
            "[682]\tvalidation_0-logloss:0.092886\n",
            "[683]\tvalidation_0-logloss:0.092871\n",
            "[684]\tvalidation_0-logloss:0.092848\n",
            "[685]\tvalidation_0-logloss:0.092821\n",
            "[686]\tvalidation_0-logloss:0.092814\n",
            "[687]\tvalidation_0-logloss:0.092979\n",
            "[688]\tvalidation_0-logloss:0.092979\n",
            "[689]\tvalidation_0-logloss:0.092978\n",
            "[690]\tvalidation_0-logloss:0.092966\n",
            "[691]\tvalidation_0-logloss:0.092968\n",
            "[692]\tvalidation_0-logloss:0.092968\n",
            "[693]\tvalidation_0-logloss:0.092938\n",
            "[694]\tvalidation_0-logloss:0.092916\n",
            "[695]\tvalidation_0-logloss:0.092902\n",
            "[696]\tvalidation_0-logloss:0.092856\n",
            "[697]\tvalidation_0-logloss:0.092852\n",
            "[698]\tvalidation_0-logloss:0.092844\n",
            "[699]\tvalidation_0-logloss:0.092831\n",
            "[700]\tvalidation_0-logloss:0.092828\n",
            "[701]\tvalidation_0-logloss:0.09283\n",
            "[702]\tvalidation_0-logloss:0.092839\n",
            "[703]\tvalidation_0-logloss:0.092837\n",
            "[704]\tvalidation_0-logloss:0.092839\n",
            "[705]\tvalidation_0-logloss:0.092817\n",
            "[706]\tvalidation_0-logloss:0.092794\n",
            "[707]\tvalidation_0-logloss:0.092786\n",
            "[708]\tvalidation_0-logloss:0.092789\n",
            "[709]\tvalidation_0-logloss:0.092796\n",
            "[710]\tvalidation_0-logloss:0.092767\n",
            "[711]\tvalidation_0-logloss:0.09277\n",
            "[712]\tvalidation_0-logloss:0.092775\n",
            "[713]\tvalidation_0-logloss:0.092752\n",
            "[714]\tvalidation_0-logloss:0.092734\n",
            "[715]\tvalidation_0-logloss:0.092967\n",
            "[716]\tvalidation_0-logloss:0.09297\n",
            "[717]\tvalidation_0-logloss:0.092959\n",
            "[718]\tvalidation_0-logloss:0.092952\n",
            "[719]\tvalidation_0-logloss:0.092928\n",
            "[720]\tvalidation_0-logloss:0.092908\n",
            "[721]\tvalidation_0-logloss:0.092875\n",
            "[722]\tvalidation_0-logloss:0.092849\n",
            "[723]\tvalidation_0-logloss:0.093054\n",
            "[724]\tvalidation_0-logloss:0.093043\n",
            "[725]\tvalidation_0-logloss:0.093029\n",
            "[726]\tvalidation_0-logloss:0.093012\n",
            "[727]\tvalidation_0-logloss:0.093013\n",
            "[728]\tvalidation_0-logloss:0.093012\n",
            "[729]\tvalidation_0-logloss:0.093002\n",
            "[730]\tvalidation_0-logloss:0.093008\n",
            "[731]\tvalidation_0-logloss:0.093004\n",
            "[732]\tvalidation_0-logloss:0.092983\n",
            "[733]\tvalidation_0-logloss:0.092995\n",
            "[734]\tvalidation_0-logloss:0.092992\n",
            "[735]\tvalidation_0-logloss:0.092989\n",
            "[736]\tvalidation_0-logloss:0.09296\n",
            "[737]\tvalidation_0-logloss:0.092959\n",
            "[738]\tvalidation_0-logloss:0.092969\n",
            "[739]\tvalidation_0-logloss:0.092966\n",
            "[740]\tvalidation_0-logloss:0.092964\n",
            "[741]\tvalidation_0-logloss:0.092959\n",
            "[742]\tvalidation_0-logloss:0.092954\n",
            "[743]\tvalidation_0-logloss:0.092957\n",
            "[744]\tvalidation_0-logloss:0.09296\n",
            "[745]\tvalidation_0-logloss:0.092957\n",
            "[746]\tvalidation_0-logloss:0.092956\n",
            "[747]\tvalidation_0-logloss:0.093106\n",
            "[748]\tvalidation_0-logloss:0.093108\n",
            "[749]\tvalidation_0-logloss:0.093082\n",
            "[750]\tvalidation_0-logloss:0.093068\n",
            "[751]\tvalidation_0-logloss:0.093298\n",
            "[752]\tvalidation_0-logloss:0.093263\n",
            "[753]\tvalidation_0-logloss:0.093252\n",
            "[754]\tvalidation_0-logloss:0.093228\n",
            "[755]\tvalidation_0-logloss:0.093181\n",
            "[756]\tvalidation_0-logloss:0.093176\n",
            "[757]\tvalidation_0-logloss:0.093181\n",
            "[758]\tvalidation_0-logloss:0.093188\n",
            "[759]\tvalidation_0-logloss:0.093165\n",
            "[760]\tvalidation_0-logloss:0.093157\n",
            "[761]\tvalidation_0-logloss:0.093179\n",
            "[762]\tvalidation_0-logloss:0.093146\n",
            "[763]\tvalidation_0-logloss:0.093147\n",
            "[764]\tvalidation_0-logloss:0.093168\n",
            "[765]\tvalidation_0-logloss:0.093138\n",
            "[766]\tvalidation_0-logloss:0.093129\n",
            "[767]\tvalidation_0-logloss:0.093104\n",
            "[768]\tvalidation_0-logloss:0.093094\n",
            "[769]\tvalidation_0-logloss:0.093071\n",
            "[770]\tvalidation_0-logloss:0.09306\n",
            "[771]\tvalidation_0-logloss:0.093063\n",
            "[772]\tvalidation_0-logloss:0.093061\n",
            "[773]\tvalidation_0-logloss:0.093056\n",
            "[774]\tvalidation_0-logloss:0.093047\n",
            "[775]\tvalidation_0-logloss:0.093365\n",
            "[776]\tvalidation_0-logloss:0.09336\n",
            "[777]\tvalidation_0-logloss:0.093353\n",
            "[778]\tvalidation_0-logloss:0.093362\n",
            "[779]\tvalidation_0-logloss:0.093345\n",
            "[780]\tvalidation_0-logloss:0.093339\n",
            "[781]\tvalidation_0-logloss:0.093325\n",
            "[782]\tvalidation_0-logloss:0.093334\n",
            "[783]\tvalidation_0-logloss:0.093318\n",
            "[784]\tvalidation_0-logloss:0.093301\n",
            "[785]\tvalidation_0-logloss:0.09327\n",
            "[786]\tvalidation_0-logloss:0.093248\n",
            "[787]\tvalidation_0-logloss:0.093248\n",
            "[788]\tvalidation_0-logloss:0.093248\n",
            "[789]\tvalidation_0-logloss:0.093265\n",
            "[790]\tvalidation_0-logloss:0.093573\n",
            "[791]\tvalidation_0-logloss:0.093577\n",
            "[792]\tvalidation_0-logloss:0.093553\n",
            "[793]\tvalidation_0-logloss:0.093544\n",
            "[794]\tvalidation_0-logloss:0.093542\n",
            "[795]\tvalidation_0-logloss:0.09352\n",
            "[796]\tvalidation_0-logloss:0.093516\n",
            "[797]\tvalidation_0-logloss:0.093514\n",
            "[798]\tvalidation_0-logloss:0.093489\n",
            "Stopping. Best iteration:\n",
            "[498]\tvalidation_0-logloss:0.091534\n",
            "\n"
          ]
        },
        {
          "data": {
            "text/plain": [
              "XGBClassifier(n_estimators=2000, n_jobs=4, predictor='gpu_predictor',\n",
              "              random_state=42, seed=42, tree_method='gpu_hist')"
            ]
          },
          "execution_count": 89,
          "metadata": {},
          "output_type": "execute_result"
        }
      ],
      "source": [
        "clf = XGBClassifier(max_depth=5, learning_rate=0.1, n_estimators=2000, n_jobs=4, tree_method='gpu_hist', predictor=\"gpu_predictor\", random_state=42, seed=42)\n",
        "clf.fit(X_train, train_labels, eval_metric=\"logloss\", early_stopping_rounds=300, eval_set=[(X_dev, dev_labels)], verbose=1)"
      ]
    },
    {
      "cell_type": "code",
      "execution_count": null,
      "metadata": {
        "colab": {
          "base_uri": "https://localhost:8080/"
        },
        "id": "29jPUgIlcyNc",
        "outputId": "2598430f-d5f3-42c0-e646-d8aa6779dcd1"
      },
      "outputs": [
        {
          "data": {
            "text/plain": [
              "(0.9648527117555291, 0.9949885577687302, 0.09107243316769008)"
            ]
          },
          "execution_count": 84,
          "metadata": {},
          "output_type": "execute_result"
        }
      ],
      "source": [
        "y_proba = clf.predict_proba(X_dev)\n",
        "return_metrics(dev_labels, y_proba[:,1])"
      ]
    },
    {
      "cell_type": "markdown",
      "metadata": {
        "id": "PInlE6APdDhJ"
      },
      "source": [
        "### Submission"
      ]
    },
    {
      "cell_type": "code",
      "execution_count": null,
      "metadata": {
        "id": "JgwyZzFtlZ7C"
      },
      "outputs": [],
      "source": [
        "y_pred = clf.predict_proba(X_test)[:,1]"
      ]
    },
    {
      "cell_type": "code",
      "execution_count": null,
      "metadata": {
        "id": "-TGZjxAGdbMW"
      },
      "outputs": [],
      "source": [
        "# Write predictions to a file\n",
        "import csv\n",
        "predictions = zip(range(len(y_pred)), y_pred)\n",
        "with open(f\"submission_new_trial.csv\",\"w\") as pred:\n",
        "    csv_out = csv.writer(pred)\n",
        "    csv_out.writerow(['id','predicted'])\n",
        "    for row in predictions:\n",
        "        csv_out.writerow(row)"
      ]
    }
  ],
  "metadata": {
    "accelerator": "GPU",
    "colab": {
      "collapsed_sections": [],
      "machine_shape": "hm",
      "name": "notebook_altegrad.ipynb",
      "provenance": []
    },
    "kernelspec": {
      "display_name": "Python 3",
      "name": "python3"
    },
    "language_info": {
      "name": "python"
    }
  },
  "nbformat": 4,
  "nbformat_minor": 0
}
